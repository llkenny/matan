{
 "cells": [
  {
   "cell_type": "code",
   "execution_count": 3,
   "metadata": {},
   "outputs": [],
   "source": [
    "a = {1, 2, 3}\n",
    "b = {3, 4}\n",
    "c = {0, 11}"
   ]
  },
  {
   "cell_type": "markdown",
   "metadata": {},
   "source": [
    "### Пересечение"
   ]
  },
  {
   "cell_type": "code",
   "execution_count": 8,
   "metadata": {},
   "outputs": [
    {
     "name": "stdout",
     "output_type": "stream",
     "text": [
      "set()\n",
      "{3}\n",
      "set()\n",
      "set()\n"
     ]
    }
   ],
   "source": [
    "print(a.intersection(b, c))\n",
    "print(a.intersection(b))\n",
    "print(b.intersection(c))\n",
    "print(a.intersection(c))"
   ]
  },
  {
   "cell_type": "markdown",
   "metadata": {},
   "source": [
    "### Объединение"
   ]
  },
  {
   "cell_type": "code",
   "execution_count": 9,
   "metadata": {},
   "outputs": [
    {
     "name": "stdout",
     "output_type": "stream",
     "text": [
      "{0, 1, 2, 3, 4, 11}\n",
      "{1, 2, 3, 4}\n",
      "{0, 11, 3, 4}\n",
      "{0, 1, 2, 3, 11}\n"
     ]
    }
   ],
   "source": [
    "print(a.union(b, c))\n",
    "print(a.union(b))\n",
    "print(b.union(c))\n",
    "print(a.union(c))"
   ]
  },
  {
   "cell_type": "markdown",
   "metadata": {},
   "source": [
    "### Разность"
   ]
  },
  {
   "cell_type": "code",
   "execution_count": 11,
   "metadata": {},
   "outputs": [
    {
     "name": "stdout",
     "output_type": "stream",
     "text": [
      "{1, 2}\n",
      "{1, 2}\n",
      "{4}\n",
      "{1, 2, 3}\n",
      "{3, 4}\n",
      "{4}\n",
      "{4}\n",
      "{0, 11}\n",
      "{0, 11}\n",
      "{0, 11}\n"
     ]
    }
   ],
   "source": [
    "print(a.difference(b).difference(c))\n",
    "print(a.difference(b))\n",
    "print(b.difference(a))\n",
    "print(a.difference(c))\n",
    "print(b.difference(c))\n",
    "print(b.difference(a).difference(c))\n",
    "print(b.difference(c).difference(a))\n",
    "print(c.difference(a).difference(b))\n",
    "print(c.difference(a))\n",
    "print(c.difference(b))"
   ]
  },
  {
   "cell_type": "markdown",
   "metadata": {},
   "source": [
    "### Симметрическая разность"
   ]
  },
  {
   "cell_type": "code",
   "execution_count": 12,
   "metadata": {},
   "outputs": [
    {
     "name": "stdout",
     "output_type": "stream",
     "text": [
      "{0, 1, 2, 4, 11}\n",
      "{1, 2, 4}\n",
      "{0, 3, 11, 4}\n",
      "{0, 1, 2, 3, 11}\n"
     ]
    }
   ],
   "source": [
    "print(a.symmetric_difference(b).symmetric_difference(c))\n",
    "print(a.symmetric_difference(b))\n",
    "print(b.symmetric_difference(c))\n",
    "print(a.symmetric_difference(c))"
   ]
  },
  {
   "cell_type": "markdown",
   "metadata": {},
   "source": [
    "### Декартово произведение"
   ]
  },
  {
   "cell_type": "code",
   "execution_count": 45,
   "metadata": {},
   "outputs": [
    {
     "name": "stdout",
     "output_type": "stream",
     "text": [
      "{(2, 4), (3, 4), (1, 4), (2, 3), (3, 3), (1, 3)}\n",
      "{(2, 4), (3, 4), (1, 4), (2, 3), (3, 3), (1, 3)}\n",
      "{(4, 3), (3, 1), (4, 2), (3, 3), (3, 2), (4, 1)}\n",
      "{(4, 4), (3, 3), (3, 4), (4, 3)}\n",
      "{(4, 3), (3, 1), (4, 2), (3, 3), (3, 2), (4, 1)}\n",
      "{(4, 4), (3, 3), (3, 4), (4, 3)}\n",
      "{(3, 4, 3), (1, 4, 4), (2, 3, 3), (3, 3, 4), (3, 3, 3), (1, 3, 4), (1, 4, 3), (2, 4, 4), (1, 3, 3), (2, 3, 4), (2, 4, 3), (3, 4, 4)}\n",
      "{(3, 4, 3), (1, 4, 4), (2, 3, 3), (3, 3, 4), (3, 3, 3), (1, 3, 4), (1, 4, 3), (2, 4, 4), (1, 3, 3), (2, 3, 4), (2, 4, 3), (3, 4, 4)}\n",
      "{(3, 1, 4), (3, 2, 3), (3, 3, 4), (3, 1, 3), (4, 1, 4), (4, 2, 4), (3, 3, 3), (4, 3, 4), (3, 2, 4), (4, 1, 3), (4, 2, 3), (4, 3, 3)}\n",
      "{(3, 4, 3), (3, 3, 1), (4, 3, 2), (4, 4, 2), (4, 3, 1), (4, 4, 1), (3, 3, 3), (3, 4, 2), (4, 3, 3), (3, 4, 1), (3, 3, 2), (4, 4, 3)}\n",
      "{(3, 1, 4), (3, 2, 3), (3, 3, 4), (3, 1, 3), (4, 1, 4), (4, 2, 4), (3, 3, 3), (4, 3, 4), (3, 2, 4), (4, 1, 3), (4, 2, 3), (4, 3, 3)}\n",
      "{(3, 4, 3), (3, 3, 1), (4, 3, 2), (4, 4, 2), (4, 3, 1), (4, 4, 1), (3, 3, 3), (3, 4, 2), (4, 3, 3), (3, 4, 1), (3, 3, 2), (4, 4, 3)}\n"
     ]
    }
   ],
   "source": [
    "from itertools import product, permutations\n",
    "\n",
    "z = [a, b, b]\n",
    "\n",
    "for l in range(2, len(z)+1):\n",
    "    for subset in permutations(z, l):\n",
    "        print(set(product(*subset)))"
   ]
  }
 ],
 "metadata": {
  "kernelspec": {
   "display_name": "Python 3",
   "language": "python",
   "name": "python3"
  },
  "language_info": {
   "codemirror_mode": {
    "name": "ipython",
    "version": 3
   },
   "file_extension": ".py",
   "mimetype": "text/x-python",
   "name": "python",
   "nbconvert_exporter": "python",
   "pygments_lexer": "ipython3",
   "version": "3.8.5"
  }
 },
 "nbformat": 4,
 "nbformat_minor": 4
}
